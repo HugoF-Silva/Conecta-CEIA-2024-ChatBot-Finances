{
 "cells": [
  {
   "cell_type": "code",
   "execution_count": null,
   "metadata": {},
   "outputs": [],
   "source": [
    "import openai\n",
    "import os\n",
    "from time import sleep\n",
    "import requests"
   ]
  },
  {
   "cell_type": "code",
   "execution_count": null,
   "metadata": {},
   "outputs": [],
   "source": [
    "OPENAI_API_KEY = os.getenv('OPENAI_API_KEY_CONECTA')\n",
    "\n",
    "openai.api_key = OPENAI_API_KEY"
   ]
  },
  {
   "cell_type": "code",
   "execution_count": null,
   "metadata": {},
   "outputs": [],
   "source": [
    "res_file = openai.File.create(\n",
    "    file=open(\"new_format.jsonl\", \"r\"),\n",
    "    purpose=\"fine-tune\"\n",
    ")\n",
    "res_file"
   ]
  },
  {
   "cell_type": "code",
   "execution_count": null,
   "metadata": {},
   "outputs": [],
   "source": [
    "file_id = res_file['id']\n",
    "print(file_id)"
   ]
  },
  {
   "cell_type": "code",
   "execution_count": null,
   "metadata": {},
   "outputs": [],
   "source": [
    "res_job = openai.FineTuningJob.create(\n",
    "    training_file=file_id,\n",
    "    model=\"gpt-3.5-turbo-0125\"\n",
    ")\n",
    "res_job"
   ]
  },
  {
   "cell_type": "code",
   "execution_count": null,
   "metadata": {},
   "outputs": [],
   "source": [
    "job_id = res_job['id']\n",
    "print(job_id)"
   ]
  },
  {
   "cell_type": "code",
   "execution_count": null,
   "metadata": {},
   "outputs": [],
   "source": [
    "print(\"Monitoring the job status, please wait...\")\n",
    "while True:\n",
    "    res_job = openai.FineTuningJob.retrieve(job_id)  # Assuming `openai` is already imported and configured\n",
    "    if res_job['finished_at'] is not None:\n",
    "        break\n",
    "    else:\n",
    "        time.sleep(60)  # Wait for 60 seconds before checking again\n",
    "        print(\".\", end=\"\")"
   ]
  },
  {
   "cell_type": "code",
   "execution_count": null,
   "metadata": {},
   "outputs": [],
   "source": [
    "res_job_status = openai.FineTuningJob.retrieve(job_id)\n",
    "print(res_job_status)"
   ]
  },
  {
   "cell_type": "markdown",
   "metadata": {},
   "source": [
    "## If you want to cancel your fine tuning while is tuning, you can run this:"
   ]
  },
  {
   "cell_type": "code",
   "execution_count": null,
   "metadata": {},
   "outputs": [],
   "source": [
    "# API endpoint to cancel the fine-tuning job\n",
    "url = f'https://api.openai.com/v1/fine_tuning/jobs/{job_id}/cancel'\n",
    "\n",
    "# Headers to include in the request\n",
    "headers = {\n",
    "    'Authorization': f'Bearer {OPENAI_API_KEY}',\n",
    "    'Content-Type': 'application/json'\n",
    "}\n",
    "\n",
    "# Sending the POST request to cancel the fine-tuning job\n",
    "response = requests.post(url, headers=headers)\n",
    "\n",
    "# Print the response to see if it was successful\n",
    "print(response.text)"
   ]
  },
  {
   "cell_type": "markdown",
   "metadata": {},
   "source": [
    "## If you want to see every checkpoint made by OpenaAi while fine tuning, you can run this:"
   ]
  },
  {
   "cell_type": "code",
   "execution_count": null,
   "metadata": {},
   "outputs": [],
   "source": [
    "url = f\"https://api.openai.com/v1/fine_tuning/jobs/{job_id}/checkpoints\"\n",
    "headers = {\n",
    "    'Authorization': f'Bearer {OPENAI_API_KEY}',\n",
    "    'Content-Type': 'application/json'\n",
    "}\n",
    "\n",
    "response = requests.get(url, headers=headers)\n",
    "print(response.text)"
   ]
  }
 ],
 "metadata": {
  "kernelspec": {
   "display_name": "fin00-env",
   "language": "python",
   "name": "python3"
  },
  "language_info": {
   "name": "python",
   "version": "3.12.7"
  }
 },
 "nbformat": 4,
 "nbformat_minor": 2
}
