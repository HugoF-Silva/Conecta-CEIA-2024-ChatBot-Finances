{
 "cells": [
  {
   "cell_type": "markdown",
   "metadata": {},
   "source": [
    "Important:\n",
    "\n",
    "There's a conflict. `googletrans==4.0.0-rc1` was the version used, but it requires `httpx==0.13.3`, while our supabase db requires `httpx==0.27.2`."
   ]
  },
  {
   "cell_type": "code",
   "execution_count": null,
   "metadata": {},
   "outputs": [],
   "source": [
    "!pip install googletrans==4.0.0-rc1\n",
    "!pip install datasets==3.0.1"
   ]
  },
  {
   "cell_type": "code",
   "execution_count": null,
   "metadata": {},
   "outputs": [],
   "source": [
    "import pandas as pd\n",
    "from googletrans import Translator\n",
    "import time\n",
    "from datasets import load_dataset\n",
    "import os"
   ]
  },
  {
   "cell_type": "markdown",
   "metadata": {},
   "source": [
    "crypto_dataset is `train.csv` in \n",
    "\n",
    "https://www.kaggle.com/datasets/amalrajsingh/cryptocurrency-blockchain-and-stock-market-qa?resource=download&select=train.csv"
   ]
  },
  {
   "cell_type": "code",
   "execution_count": null,
   "metadata": {},
   "outputs": [],
   "source": [
    "path = os.path.abspath(os.path.join(os.path.dirname(__file__), os.pardir, 'fine_tuning_data', 'crypto_dataset'))"
   ]
  },
  {
   "cell_type": "code",
   "execution_count": null,
   "metadata": {},
   "outputs": [],
   "source": [
    "df_crypto = pd.read_csv(path)\n",
    "df_crypto.head()"
   ]
  },
  {
   "cell_type": "code",
   "execution_count": null,
   "metadata": {},
   "outputs": [],
   "source": [
    "df_crypto.info()"
   ]
  },
  {
   "cell_type": "code",
   "execution_count": null,
   "metadata": {},
   "outputs": [],
   "source": [
    "df_crypto.drop(columns=[\"Unnamed: 0\"], inplace=True)\n",
    "duplicated_rows = df_crypto[df_crypto.duplicated()]\n",
    "print(len(duplicated_rows))\n",
    "df_crypto.drop_duplicates(inplace=True)\n",
    "df_crypto.reset_index(drop=True, inplace=True)"
   ]
  },
  {
   "cell_type": "code",
   "execution_count": null,
   "metadata": {},
   "outputs": [],
   "source": [
    "df_crypto.info()"
   ]
  },
  {
   "cell_type": "code",
   "execution_count": null,
   "metadata": {},
   "outputs": [],
   "source": [
    "nan_count_per_column = df_crypto.isna().sum()\n",
    "\n",
    "print(f\"nan count \\n{nan_count_per_column}\")\n",
    "print(\"\")\n",
    "\n",
    "print(f\"empty count\")\n",
    "for column in df_crypto.columns:\n",
    "  print(f\"{column}: {(df_crypto[column] == '').sum()}\")\n",
    "print(\"\")\n",
    "\n",
    "print(f\"whitespace count\")\n",
    "for column in df_crypto.columns:\n",
    "  print(f\"{column}: {(df_crypto[column].str.strip() == '').sum()}\") \n"
   ]
  },
  {
   "cell_type": "code",
   "execution_count": null,
   "metadata": {},
   "outputs": [],
   "source": [
    "translator = Translator()\n",
    "\n",
    "def safe_translate(text, src='en', dest='pt', column=None, row=None):\n",
    "  try:\n",
    "    # time.sleep(0.5)\n",
    "    translated_text = translator.translate(text, src=src, dest=dest).text\n",
    "    return translated_text\n",
    "  \n",
    "  except Exception as e:\n",
    "    print(f\"({row}, {column})\")\n",
    "    print(f\"Error translating text: {text} - {e}\")\n",
    "    return None\n",
    "\n",
    "untranslatable_a = []\n",
    "untranslatable_q = []\n",
    "df_crypto['question_pt'] = df_crypto.apply(lambda row: safe_translate(row['question'], src='en', dest='pt', column='question', row=row.name), axis=1)\n",
    "df_crypto['answer_pt'] = df_crypto.apply(lambda row: safe_translate(row['answer'], src='en', dest='pt', column='answer', row=row.name), axis=1)"
   ]
  },
  {
   "cell_type": "code",
   "execution_count": null,
   "metadata": {},
   "outputs": [],
   "source": [
    "df_crypto.reset_index(drop=True, inplace=True)"
   ]
  },
  {
   "cell_type": "markdown",
   "metadata": {},
   "source": [
    "Google Translator API is too slow.\n",
    "\n",
    "Sometimes it can't handle the amount of requests or just can't deal with a specific request.\n",
    "\n",
    "You gonna notice that after the first try to safe_translate, there will be some None values.\n",
    "\n",
    "You need to try to translate them again.\n",
    "\n",
    "### https://github.com/vTuanpham/Large_dataset_translator?tab=readme-ov-file\n",
    "\n",
    "For those who have time to automate this code, checkout this repo, it is a **dataset translator**.\n",
    "#### More faster and more reliable."
   ]
  },
  {
   "cell_type": "code",
   "execution_count": null,
   "metadata": {},
   "outputs": [],
   "source": [
    "untranslatable_q = None # define this as a list with each index that was printed for 'question' column\n",
    "untranslatable_a = None # define this as list with each index that was printed for 'answer' column"
   ]
  },
  {
   "cell_type": "markdown",
   "metadata": {},
   "source": [
    "Rerun those below while is necessary."
   ]
  },
  {
   "cell_type": "code",
   "execution_count": null,
   "metadata": {},
   "outputs": [],
   "source": [
    "# Retry for untranslatable questions\n",
    "for row_index in untranslatable_q:\n",
    "    df_crypto.loc[row_index, 'question_pt'] = safe_translate(df_crypto.loc[row_index, 'question'], src='en', dest='pt', column='question', row=row_index)"
   ]
  },
  {
   "cell_type": "code",
   "execution_count": null,
   "metadata": {},
   "outputs": [],
   "source": [
    "# Retry for untranslatable answers\n",
    "for row_index in untranslatable_a:\n",
    "    df_crypto.loc[row_index, 'answer_pt'] = safe_translate(df_crypto.loc[row_index, 'answer'], src='en', dest='pt', column='answer', row=row_index)"
   ]
  },
  {
   "cell_type": "code",
   "execution_count": null,
   "metadata": {},
   "outputs": [],
   "source": [
    "# while the every column value isn't 0, you should still be retrying safe_translate or use the repository I recommended or another way.\n",
    "df_crypto.isna().sum()"
   ]
  },
  {
   "cell_type": "code",
   "execution_count": null,
   "metadata": {},
   "outputs": [],
   "source": [
    "df_crypto[['question_pt', 'answer_pt']].head()"
   ]
  },
  {
   "cell_type": "code",
   "execution_count": null,
   "metadata": {},
   "outputs": [],
   "source": [
    "df_crypto.to_csv('preprocessed_crypto_finance.csv', index=False)"
   ]
  },
  {
   "cell_type": "code",
   "execution_count": null,
   "metadata": {},
   "outputs": [],
   "source": [
    "dataset = load_dataset('nihiluis/financial-advisor-100')\n",
    "df_nihilus = pd.DataFrame(dataset['train'])"
   ]
  },
  {
   "cell_type": "code",
   "execution_count": null,
   "metadata": {},
   "outputs": [],
   "source": [
    "df_nihilus.info()"
   ]
  },
  {
   "cell_type": "code",
   "execution_count": null,
   "metadata": {},
   "outputs": [],
   "source": [
    "df_nihilus.drop(columns=['id'], inplace=True)"
   ]
  },
  {
   "cell_type": "code",
   "execution_count": null,
   "metadata": {},
   "outputs": [],
   "source": [
    "nan_count_per_column = df_nihilus.isna().sum()\n",
    "\n",
    "print(f\"nan count \\n{nan_count_per_column}\")\n",
    "print(\"\")\n",
    "\n",
    "print(f\"empty count\")\n",
    "for column in df_nihilus.columns:\n",
    "  print(f\"{column}: {(df_nihilus[column] == '').sum()}\")\n",
    "print(\"\")\n",
    "\n",
    "print(f\"whitespace count\")\n",
    "for column in df_nihilus.columns:\n",
    "  print(f\"{column}: {(df_nihilus[column].str.strip() == '').sum()}\") \n"
   ]
  },
  {
   "cell_type": "code",
   "execution_count": null,
   "metadata": {},
   "outputs": [],
   "source": [
    "df_nihilus.drop_duplicates(inplace=True)\n",
    "df_nihilus.reset_index(drop=True, inplace=True)"
   ]
  },
  {
   "cell_type": "code",
   "execution_count": null,
   "metadata": {},
   "outputs": [],
   "source": [
    "df_nihilus['question_pt'] = df_nihilus.apply(lambda row: safe_translate(row['question'], src='en', dest='pt', column='question', row=row.name), axis=1)\n",
    "df_nihilus['answer_pt'] = df_nihilus.apply(lambda row: safe_translate(row['answer'], src='en', dest='pt', column='answer', row=row.name), axis=1)"
   ]
  },
  {
   "cell_type": "code",
   "execution_count": null,
   "metadata": {},
   "outputs": [],
   "source": [
    "untranslatable_q_nihilus = [91]\n",
    "untranslatable_a_nihilusM = [21, 40]"
   ]
  },
  {
   "cell_type": "code",
   "execution_count": null,
   "metadata": {},
   "outputs": [],
   "source": [
    "for row_index in untranslatable_q:\n",
    "    df_nihilus.loc[row_index, 'question_pt'] = safe_translate(df_nihilus.loc[row_index, 'question'], src='en', dest='pt', column='question', row=row_index)"
   ]
  },
  {
   "cell_type": "code",
   "execution_count": null,
   "metadata": {},
   "outputs": [],
   "source": [
    "for row_index in untranslatable_a:\n",
    "    df_nihilus.loc[row_index, 'answer_pt'] = safe_translate(df_nihilus.loc[row_index, 'answer'], src='en', dest='pt', column='answer', row=row_index)"
   ]
  },
  {
   "cell_type": "code",
   "execution_count": null,
   "metadata": {},
   "outputs": [],
   "source": [
    "df_nihilus.reset_index(drop=True, inplace=True)"
   ]
  },
  {
   "cell_type": "code",
   "execution_count": null,
   "metadata": {},
   "outputs": [],
   "source": [
    "df_nihilus.to_csv('preprocessed_financial_advisor_100.csv', index=False)"
   ]
  },
  {
   "cell_type": "code",
   "execution_count": null,
   "metadata": {},
   "outputs": [],
   "source": [
    "df_1 = df_crypto[['question_pt', 'answer_pt']]\n",
    "df_2 = df_nihilus[['question_pt', 'answer_pt']]\n",
    "df_combined = pd.concat([df_1, df_2], ignore_index=True)\n",
    "df_combined.rename(columns={'question_pt': 'question', 'answer_pt': 'answer'}, inplace=True)"
   ]
  },
  {
   "cell_type": "code",
   "execution_count": null,
   "metadata": {},
   "outputs": [],
   "source": [
    "df_combined = df_combined.sample(frac=1).reset_index(drop=True)"
   ]
  },
  {
   "cell_type": "code",
   "execution_count": null,
   "metadata": {},
   "outputs": [],
   "source": [
    "def create_message_format(row):\n",
    "    return [\n",
    "        {'role': 'user', 'content': row['question']},\n",
    "        {'role': 'assistant', 'content': row['answer']}\n",
    "    ]"
   ]
  },
  {
   "cell_type": "code",
   "execution_count": null,
   "metadata": {},
   "outputs": [],
   "source": [
    "df_new_format = pd.DataFrame({\n",
    "    'messages': df_combined.apply(create_message_format, axis=1)\n",
    "})"
   ]
  },
  {
   "cell_type": "code",
   "execution_count": null,
   "metadata": {},
   "outputs": [],
   "source": [
    "df_new_format.to_json('new_format.jsonl', orient='records', lines=True)"
   ]
  }
 ],
 "metadata": {
  "kernelspec": {
   "display_name": "fin00-env",
   "language": "python",
   "name": "python3"
  },
  "language_info": {
   "name": "python",
   "version": "3.12.7"
  }
 },
 "nbformat": 4,
 "nbformat_minor": 2
}
